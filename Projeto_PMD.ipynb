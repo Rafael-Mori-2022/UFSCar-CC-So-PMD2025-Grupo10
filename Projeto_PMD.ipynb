{
 "cells": [
  {
   "cell_type": "markdown",
   "metadata": {
    "application/vnd.databricks.v1+cell": {
     "cellMetadata": {},
     "inputWidgets": {},
     "nuid": "14939651-7970-4c62-9c70-baef5a85108d",
     "showTitle": false,
     "tableResultSettingsMap": {},
     "title": ""
    }
   },
   "source": [
    "## ⚽ Football ETL – Transfermarkt ➜ Spark ➜ MongoDB + Neo4j\n",
    "###  João Vitor Averaldo Antunes (813979) · Pedro Enrico Barchi Nogueira (813099) · Rafael Mori Pinheiro (813851)\n",
    "\n",
    "UFSCar-CC-So-PMD2025-Grupo 10\n",
    "\n",
    "### Profa. Dra. Sahudy Montenegro González\n"
   ]
  },
  {
   "cell_type": "markdown",
   "metadata": {
    "application/vnd.databricks.v1+cell": {
     "cellMetadata": {},
     "inputWidgets": {},
     "nuid": "a83ab282-75c2-4999-b882-46ed24e68e5b",
     "showTitle": false,
     "tableResultSettingsMap": {},
     "title": ""
    }
   },
   "source": [
    "---\n",
    "Carregamento de Paths e Dependências"
   ]
  },
  {
   "cell_type": "markdown",
   "metadata": {},
   "source": [
    "# Configuração do Ambiente de Execução\n",
    "\n",
    "Este notebook requer uma configuração de ambiente específica para garantir que o Apache Spark, Delta Lake e os conectores de banco de dados funcionem corretamente. \n",
    "\n",
    "---\n",
    "\n",
    "### 1. Requisitos de Sistema\n",
    "\n",
    "As seguintes tecnologias devem estar instaladas e configuradas na máquina local:\n",
    "\n",
    "* **Java Development Kit (JDK):** Versão **17 ou superior**.\n",
    "    * *Motivo:* O Apache Spark executa na JVM (Java Virtual Machine).\n",
    "    * *Verificação:* A variável de ambiente `JAVA_HOME` deve estar configurada e apontando para o diretório de instalação do JDK.\n",
    "\n",
    "* **Apache Spark (Binários):** Versão **4.0.0**.\n",
    "    * *Motivo:* Esta é a engine de processamento massivo de dados utilizada.\n",
    "    * *Verificação:* A variável de ambiente `SPARK_HOME` deve estar configurada e apontando para o diretório onde o Spark foi descompactado.\n",
    "\n",
    "* **Python:** Versão **3.11.x**.\n",
    "    * *Motivo:* As bibliotecas `pyspark` e `delta-spark` utilizadas neste projeto são compatíveis com esta versão do Python. Versões mais recentes (como 3.13+) podem causar erros de incompatibilidade.\n",
    "    * *Recomendação (macOS/Linux):* Usar o `pyenv` para gerenciar a versão do Python (`pyenv install 3.11` e `pyenv local 3.11` na pasta do projeto).\n",
    "\n",
    "---\n",
    "\n",
    "### 2. Ambiente Virtual e Dependências Python\n",
    "\n",
    "Para isolar as dependências, este projeto deve ser executado dentro de um ambiente virtual (`venv`).\n",
    "\n",
    "1.  **Criação:** `python -m venv venv`\n",
    "2.  **Ativação:** `source venv/bin/activate` (macOS/Linux) ou `.\\venv\\Scripts\\activate` (Windows)\n",
    "\n",
    "As bibliotecas Python necessárias serão instaladas pela célula de código abaixo. As principais são:\n",
    "* `pyspark`: A API Python para interagir com o Spark.\n",
    "* `delta-spark`: A biblioteca para habilitar o suporte ao formato Delta Lake.\n",
    "* `python-dotenv`: Para gerenciar variáveis de ambiente (credenciais) a partir de um arquivo `.env`.\n",
    "\n",
    "---\n",
    "\n",
    "### 3. Arquivos de Conectores (.jar)\n",
    "\n",
    "Devido a possíveis restrições de rede ou para garantir consistência, este projeto utiliza o método de carregamento manual de JARs. Crie uma pasta chamada `jars` na raiz do projeto e certifique-se de que ela contém os seguintes quatro arquivos:\n",
    "\n",
    "1.  `delta-spark_2.13-4.0.0.jar`\n",
    "2.  `delta-storage-4.0.0.jar`\n",
    "3.  `mongo-spark-connector_2.13-10.5.0.jar`\n",
    "4.  `mongodb-driver-sync-5.5.1.jar`\n",
    "5.  `mongodb-driver-core-5.1.2.jar`\n",
    "6.  `neo4j-connector-apache-spark_2.13-5.3.8_for_spark_3.jar`\n",
    "7.  `bson-5.1.2.jar`\n",
    "\n",
    "---\n",
    "\n",
    "### 4. Arquivo de Variáveis de Ambiente (`.env`)\n",
    "\n",
    "Crie um arquivo chamado `.env` na raiz do projeto para armazenar as credenciais dos bancos de dados de forma segura. O arquivo deve seguir o seguinte formato:\n",
    "\n",
    "```plaintext\n",
    "# Credenciais do MongoDB\n",
    "MONGO_URI=\"mongodb+srv://<user>:<password>@<cluster-url>/\"\n",
    "\n",
    "# Credenciais do Neo4j\n",
    "NEO4J_URI=\"bolt://localhost:7687\"\n",
    "NEO4J_USERNAME=\"neo4j\"\n",
    "NEO4J_PASSWORD=\"your_password\""
   ]
  },
  {
   "cell_type": "code",
   "execution_count": null,
   "metadata": {},
   "outputs": [],
   "source": [
    "import os\n",
    "import sys\n",
    "\n",
    "# Instala os pacotes necessários\n",
    "!{sys.executable} -m pip install \"pyspark>=4.0.0\" \"delta-spark>=4.0.0\" python-dotenv\n",
    "\n",
    "print(\"\\n✅ Dependências Python instaladas com sucesso!\")\n",
    "print(\"Lembre-se de reiniciar o kernel ('Kernel > Restart Kernel...') para que as mudanças tenham efeito.\")"
   ]
  },
  {
   "cell_type": "markdown",
   "metadata": {},
   "source": [
    "### Inicialização da Sessão Spark\n",
    "\n",
    "A célula a seguir inicializa a `SparkSession`, que é o ponto de entrada para qualquer funcionalidade do Spark. Utilizamos o padrão de projeto **Builder** para configurar a sessão antes de criá-la.\n",
    "\n",
    "As configurações aplicadas são cruciais:\n",
    "* `appName`: Define um nome para a nossa aplicação, útil para monitoramento na UI do Spark.\n",
    "* `spark.jars`: Especifica os caminhos para os arquivos `.jar` que carregamos manualmente. Esta abordagem foi escolhida para contornar possíveis problemas de rede e garantir consistência, fornecendo ao Spark os drivers para **Delta Lake**, **MongoDB** e **Neo4j**.\n",
    "* `spark.sql.extensions` e `spark.sql.catalog.spark_catalog`: Habilitam as funcionalidades avançadas do Delta Lake, como o suporte a comandos SQL específicos do Delta.\n",
    "* `spark.mongodb.*`: Pré-configura os parâmetros de conexão padrão para o MongoDB, que serão usados nas operações de escrita.\n",
    "* `spark.neo4j.*`: Pré-configura os parâmetros de conexão padrão para o Neo4j, que serão usados nas operações de escrita."
   ]
  },
  {
   "cell_type": "code",
   "execution_count": null,
   "metadata": {
    "application/vnd.databricks.v1+cell": {
     "cellMetadata": {},
     "inputWidgets": {},
     "nuid": "f08e970b-4a0f-4e28-ba82-eaa99b3f1867",
     "showTitle": false,
     "tableResultSettingsMap": {},
     "title": ""
    }
   },
   "outputs": [
    {
     "name": "stdout",
     "output_type": "stream",
     "text": [
      "Iniciando a construção da sessão Spark para Delta e MongoDB...\n",
      "✅ Sessão Spark para Delta e MongoDB iniciada com sucesso! Versão: 4.0.0\n"
     ]
    }
   ],
   "source": [
    "from delta import configure_spark_with_delta_pip\n",
    "from pyspark.sql import SparkSession, functions as F, types as T, Window, Row\n",
    "from dotenv import load_dotenv\n",
    "import os\n",
    "from typing import List\n",
    "from datetime import datetime\n",
    "\n",
    "# -- variáveis de ambiente --\n",
    "load_dotenv('./.env')\n",
    "\n",
    "BASE_PATH = \"./raw_data\"\n",
    "PATH      = \"./pre-processing\"        # onde vai gravar os Delta\n",
    "os.makedirs(PATH, exist_ok=True)\n",
    "\n",
    "MONGO_URI  = os.getenv(\"MONGO_URI\")\n",
    "NEO4J_URL  = os.getenv(\"NEO4J_URI\")\n",
    "NEO4J_AUTH = (os.getenv(\"NEO4J_USERNAME\"), os.getenv(\"NEO4J_PASSWORD\"))\n",
    "\n",
    "# --- Caminhos para os JARs locais ---\n",
    "delta_spark_jar     = \"jars/delta-spark_2.13-4.0.0.jar\"\n",
    "delta_storage_jar   = \"jars/delta-storage-4.0.0.jar\"\n",
    "\n",
    "mongo_connector_jar = \"jars/mongo-spark-connector_2.13-10.5.0.jar\"\n",
    "mongo_driver_core   = \"jars/mongodb-driver-core-5.1.2.jar\"\n",
    "mongo_driver_sync   = \"jars/mongodb-driver-sync-5.1.2.jar\"\n",
    "mongo_bson          = \"jars/bson-5.1.2.jar\"\n",
    "\n",
    "# Caminho para o JAR do Neo4j Spark Connector\n",
    "neo4j_jar = \"jars/neo4j-connector-apache-spark_2.13-5.3.8_for_spark_3.jar\"\n",
    "\n",
    "# --- Constrói e CRIA a sessão Spark ---\n",
    "print(\"Iniciando a construção da sessão Spark para Delta e MongoDB...\")\n",
    "\n",
    "spark = (\n",
    "    SparkSession.builder\n",
    "      .appName(\"FootballPipeline-MongoFocus\")\n",
    "      .config(\n",
    "          \"spark.jars\",\n",
    "          \",\".join([\n",
    "              delta_spark_jar,\n",
    "              delta_storage_jar,\n",
    "              mongo_connector_jar,\n",
    "              mongo_driver_core,\n",
    "              mongo_driver_sync,\n",
    "              mongo_bson,\n",
    "              neo4j_jar\n",
    "          ])\n",
    "      )\n",
    "      .config(\"spark.sql.extensions\", \"io.delta.sql.DeltaSparkSessionExtension\")\n",
    "      .config(\"spark.sql.catalog.spark_catalog\", \"org.apache.spark.sql.delta.catalog.DeltaCatalog\")\n",
    "      .config(\"spark.mongodb.write.connection.uri\", MONGO_URI)   \n",
    "      .config(\"spark.mongodb.write.database\", \"football\")\n",
    "      .config(\"spark.neo4j.url\", NEO4J_URL)  # URL do Neo4j\n",
    "      .config(\"spark.neo4j.authentication.basic.username\", NEO4J_AUTH[0])  # Username\n",
    "      .config(\"spark.neo4j.authentication.basic.password\", NEO4J_AUTH[1])  # Password\n",
    "      .getOrCreate()\n",
    ")\n",
    "\n",
    "print(f\"✅ Sessão Spark para Delta e MongoDB iniciada com sucesso! Versão: {spark.version}\")"
   ]
  },
  {
   "cell_type": "markdown",
   "metadata": {
    "application/vnd.databricks.v1+cell": {
     "cellMetadata": {},
     "inputWidgets": {},
     "nuid": "6eccb7f5-e347-4d7d-8005-8f890793446a",
     "showTitle": false,
     "tableResultSettingsMap": {},
     "title": ""
    }
   },
   "source": [
    "--- \n",
    "### Definição Explícita dos Schemas\n",
    "\n",
    "Antes de carregar os dados, definimos explicitamente o `schema` (a estrutura e os tipos de dados) para cada um dos nossos arquivos CSV de origem.\n",
    "\n",
    "Esta é uma **prática recomendada fundamental** em pipelines de dados robustos, em vez de usar a opção `inferSchema=True` do Spark, pelos seguintes motivos:\n",
    "\n",
    "* **Performance:** Evita que o Spark precise ler os dados uma vez a mais apenas para inferir os tipos de dados, o que pode ser muito custoso em datasets grandes.\n",
    "* **Integridade e Prevenção de Erros:** Garante que os dados sejam lidos com os tipos corretos desde o início. Isso previne erros de tipagem em operações futuras.\n",
    "* **Consistência:** O pipeline não quebrará se uma amostra dos dados levar o Spark a inferir um tipo incorreto."
   ]
  },
  {
   "cell_type": "code",
   "execution_count": 2,
   "metadata": {
    "application/vnd.databricks.v1+cell": {
     "cellMetadata": {},
     "inputWidgets": {},
     "nuid": "d73aefce-487e-4644-a699-c3779e3253a3",
     "showTitle": false,
     "tableResultSettingsMap": {},
     "title": ""
    }
   },
   "outputs": [],
   "source": [
    "appearances_schema = T.StructType([\n",
    "    T.StructField(\"appearance_id\",              T.StringType()),\n",
    "    T.StructField(\"game_id\",                    T.LongType()),\n",
    "    T.StructField(\"player_id\",                  T.LongType()),\n",
    "    T.StructField(\"player_club_id\",             T.LongType()),\n",
    "    T.StructField(\"player_current_club_id\",     T.LongType()),\n",
    "    T.StructField(\"date\",                       T.DateType()),\n",
    "    T.StructField(\"player_name\",                T.StringType()),\n",
    "    T.StructField(\"competition_id\",             T.StringType()),\n",
    "    T.StructField(\"yellow_cards\",               T.IntegerType()),\n",
    "    T.StructField(\"red_cards\",                  T.IntegerType()),\n",
    "    T.StructField(\"goals\",                      T.IntegerType()),\n",
    "    T.StructField(\"assists\",                    T.IntegerType()),\n",
    "    T.StructField(\"minutes_played\",             T.IntegerType())\n",
    "])"
   ]
  },
  {
   "cell_type": "code",
   "execution_count": 3,
   "metadata": {
    "application/vnd.databricks.v1+cell": {
     "cellMetadata": {},
     "inputWidgets": {},
     "nuid": "14f96507-7f4e-4375-a9fe-c39e18c471ad",
     "showTitle": false,
     "tableResultSettingsMap": {},
     "title": ""
    }
   },
   "outputs": [],
   "source": [
    "club_games_schema = T.StructType([\n",
    "    T.StructField(\"game_id\",            T.LongType()),\n",
    "    T.StructField(\"club_id\",            T.LongType()),\n",
    "    T.StructField(\"own_goals\",          T.IntegerType()),\n",
    "    T.StructField(\"own_position\",       T.IntegerType()),\n",
    "    T.StructField(\"own_manager_name\",   T.StringType()),\n",
    "    T.StructField(\"opponent_id\",        T.LongType()),\n",
    "    T.StructField(\"opponent_goals\",     T.IntegerType()),\n",
    "    T.StructField(\"opponent_position\",  T.IntegerType()),\n",
    "    T.StructField(\"opponent_manager_name\", T.StringType()),\n",
    "    T.StructField(\"hosting\",            T.StringType()),\n",
    "    T.StructField(\"is_win\",             T.IntegerType())\n",
    "])\n",
    "\n",
    "clubs_schema = T.StructType([\n",
    "    T.StructField(\"club_id\",                  T.LongType()),\n",
    "    T.StructField(\"club_code\",                T.StringType()),\n",
    "    T.StructField(\"name\",                     T.StringType()),\n",
    "    T.StructField(\"domestic_competition_id\",  T.StringType()),\n",
    "    T.StructField(\"total_market_value\",       T.StringType()),\n",
    "    T.StructField(\"squad_size\",               T.IntegerType()),\n",
    "    T.StructField(\"average_age\",              T.DoubleType()),\n",
    "    T.StructField(\"foreigners_number\",        T.IntegerType()),\n",
    "    T.StructField(\"foreigners_percentage\",    T.DoubleType()),\n",
    "    T.StructField(\"national_team_players\",    T.IntegerType()),\n",
    "    T.StructField(\"stadium_name\",             T.StringType()),\n",
    "    T.StructField(\"stadium_seats\",            T.IntegerType()),\n",
    "    T.StructField(\"net_transfer_record\",      T.StringType()),\n",
    "    T.StructField(\"coach_name\",               T.StringType()),\n",
    "    T.StructField(\"last_season\",              T.IntegerType()),\n",
    "    T.StructField(\"filename\",                 T.StringType()),\n",
    "    T.StructField(\"url\",                      T.StringType())\n",
    "])\n"
   ]
  },
  {
   "cell_type": "code",
   "execution_count": 4,
   "metadata": {
    "application/vnd.databricks.v1+cell": {
     "cellMetadata": {},
     "inputWidgets": {},
     "nuid": "872223a7-e9da-49f4-b2d6-1c4f12ddc2ed",
     "showTitle": false,
     "tableResultSettingsMap": {},
     "title": ""
    }
   },
   "outputs": [],
   "source": [
    "competitions_schema = T.StructType([\n",
    "    T.StructField(\"competition_id\",          T.StringType()),\n",
    "    T.StructField(\"competition_code\",        T.StringType()),\n",
    "    T.StructField(\"name\",                    T.StringType()),\n",
    "    T.StructField(\"sub_type\",                T.StringType()),\n",
    "    T.StructField(\"type\",                    T.StringType()),\n",
    "    T.StructField(\"country_id\",              T.IntegerType()),\n",
    "    T.StructField(\"country_name\",            T.StringType()),\n",
    "    T.StructField(\"domestic_league_code\",    T.StringType()),\n",
    "    T.StructField(\"confederation\",           T.StringType()),\n",
    "    T.StructField(\"url\",                     T.StringType()),\n",
    "    T.StructField(\"is_major_national_league\",T.BooleanType())\n",
    "])"
   ]
  },
  {
   "cell_type": "code",
   "execution_count": 5,
   "metadata": {
    "application/vnd.databricks.v1+cell": {
     "cellMetadata": {},
     "inputWidgets": {},
     "nuid": "b53cd6da-e642-41ec-a831-be83991a96a1",
     "showTitle": false,
     "tableResultSettingsMap": {},
     "title": ""
    }
   },
   "outputs": [],
   "source": [
    "game_events_schema = T.StructType([\n",
    "    T.StructField(\"game_event_id\",   T.StringType()),\n",
    "    T.StructField(\"date\",            T.DateType()),\n",
    "    T.StructField(\"game_id\",         T.LongType()),\n",
    "    T.StructField(\"minute\",          T.IntegerType()),\n",
    "    T.StructField(\"type\",            T.StringType()),\n",
    "    T.StructField(\"club_id\",         T.LongType()),\n",
    "    T.StructField(\"player_id\",       T.LongType()),\n",
    "    T.StructField(\"description\",     T.StringType()),\n",
    "    T.StructField(\"player_in_id\",    T.LongType()),\n",
    "    T.StructField(\"player_assist_id\",T.LongType())\n",
    "])\n",
    "\n",
    "game_lineups_schema = T.StructType([\n",
    "    T.StructField(\"game_lineups_id\", T.StringType()),\n",
    "    T.StructField(\"date\",            T.DateType()),\n",
    "    T.StructField(\"game_id\",         T.LongType()),\n",
    "    T.StructField(\"player_id\",       T.LongType()),\n",
    "    T.StructField(\"club_id\",         T.LongType()),\n",
    "    T.StructField(\"player_name\",     T.StringType()),\n",
    "    T.StructField(\"type\",            T.StringType()),\n",
    "    T.StructField(\"position\",        T.StringType()),\n",
    "    T.StructField(\"number\",          T.IntegerType()),\n",
    "    T.StructField(\"team_captain\",    T.IntegerType())\n",
    "])\n",
    "\n",
    "games_schema = T.StructType([\n",
    "    T.StructField(\"game_id\",              T.LongType()),\n",
    "    T.StructField(\"competition_id\",       T.StringType()),\n",
    "    T.StructField(\"season\",               T.IntegerType()),\n",
    "    T.StructField(\"round\",                T.StringType()),\n",
    "    T.StructField(\"date\",                 T.DateType()),\n",
    "    T.StructField(\"home_club_id\",         T.LongType()),\n",
    "    T.StructField(\"away_club_id\",         T.LongType()),\n",
    "    T.StructField(\"home_club_goals\",      T.IntegerType()),\n",
    "    T.StructField(\"away_club_goals\",      T.IntegerType()),\n",
    "    T.StructField(\"home_club_position\",   T.IntegerType()),\n",
    "    T.StructField(\"away_club_position\",   T.IntegerType()),\n",
    "    T.StructField(\"home_club_manager_name\", T.StringType()),\n",
    "    T.StructField(\"away_club_manager_name\", T.StringType()),\n",
    "    T.StructField(\"stadium\",              T.StringType()),\n",
    "    T.StructField(\"attendance\",           T.IntegerType()),\n",
    "    T.StructField(\"referee\",              T.StringType()),\n",
    "    T.StructField(\"url\",                  T.StringType()),\n",
    "    T.StructField(\"home_club_formation\",  T.StringType()),\n",
    "    T.StructField(\"away_club_formation\",  T.StringType()),\n",
    "    T.StructField(\"home_club_name\",       T.StringType()),\n",
    "    T.StructField(\"away_club_name\",       T.StringType()),\n",
    "    T.StructField(\"aggregate\",            T.StringType()),\n",
    "    T.StructField(\"competition_type\",     T.StringType())\n",
    "])"
   ]
  },
  {
   "cell_type": "code",
   "execution_count": 6,
   "metadata": {
    "application/vnd.databricks.v1+cell": {
     "cellMetadata": {},
     "inputWidgets": {},
     "nuid": "2e03172d-2248-42b0-bbb4-282b8b7a70b6",
     "showTitle": false,
     "tableResultSettingsMap": {},
     "title": ""
    }
   },
   "outputs": [],
   "source": [
    "valuations_schema = T.StructType([\n",
    "    T.StructField(\"player_id\",        T.LongType()),\n",
    "    T.StructField(\"date\",             T.DateType()),\n",
    "    T.StructField(\"market_value_in_eur\", T.DoubleType()),\n",
    "    T.StructField(\"current_club_id\",  T.LongType()),\n",
    "    T.StructField(\"player_club_domestic_competition_id\", T.StringType())\n",
    "])"
   ]
  },
  {
   "cell_type": "code",
   "execution_count": 7,
   "metadata": {
    "application/vnd.databricks.v1+cell": {
     "cellMetadata": {},
     "inputWidgets": {},
     "nuid": "37954f24-a0cf-4d00-adba-e431db3890b3",
     "showTitle": false,
     "tableResultSettingsMap": {},
     "title": ""
    }
   },
   "outputs": [],
   "source": [
    "players_schema = T.StructType([\n",
    "    T.StructField(\"player_id\",            T.LongType()),\n",
    "    T.StructField(\"first_name\",           T.StringType()),\n",
    "    T.StructField(\"last_name\",            T.StringType()),\n",
    "    T.StructField(\"name\",                 T.StringType()),\n",
    "    T.StructField(\"last_season\",          T.IntegerType()),\n",
    "    T.StructField(\"current_club_id\",      T.LongType()),\n",
    "    T.StructField(\"player_code\",          T.StringType()),\n",
    "    T.StructField(\"country_of_birth\",     T.StringType()),\n",
    "    T.StructField(\"city_of_birth\",        T.StringType()),\n",
    "    T.StructField(\"country_of_citizenship\",T.StringType()),\n",
    "    T.StructField(\"date_of_birth\",        T.TimestampType()),\n",
    "    T.StructField(\"sub_position\",         T.StringType()),\n",
    "    T.StructField(\"position\",             T.StringType()),\n",
    "    T.StructField(\"foot\",                 T.StringType()),\n",
    "    T.StructField(\"height_in_cm\",         T.IntegerType()),\n",
    "    T.StructField(\"contract_expiration_date\", T.StringType()),\n",
    "    T.StructField(\"agent_name\",           T.StringType()),\n",
    "    T.StructField(\"image_url\",            T.StringType()),\n",
    "    T.StructField(\"url\",                  T.StringType()),\n",
    "    T.StructField(\"current_club_domestic_competition_id\", T.StringType()),\n",
    "    T.StructField(\"current_club_name\",    T.StringType()),\n",
    "    T.StructField(\"market_value_in_eur\",  T.DoubleType()),\n",
    "    T.StructField(\"highest_market_value_in_eur\", T.DoubleType())\n",
    "])\n",
    "\n",
    "transfers_schema = T.StructType([\n",
    "    T.StructField(\"player_id\",        T.LongType()),\n",
    "    T.StructField(\"transfer_date\",    T.DateType()),\n",
    "    T.StructField(\"transfer_season\",  T.StringType()),\n",
    "    T.StructField(\"from_club_id\",     T.LongType()),\n",
    "    T.StructField(\"to_club_id\",       T.LongType()),\n",
    "    T.StructField(\"from_club_name\",   T.StringType()),\n",
    "    T.StructField(\"to_club_name\",     T.StringType()),\n",
    "    T.StructField(\"transfer_fee\",     T.DoubleType()),\n",
    "    T.StructField(\"market_value_in_eur\", T.DoubleType()),\n",
    "    T.StructField(\"player_name\",      T.StringType())\n",
    "])"
   ]
  },
  {
   "cell_type": "markdown",
   "metadata": {
    "application/vnd.databricks.v1+cell": {
     "cellMetadata": {},
     "inputWidgets": {},
     "nuid": "a57e65b3-7bb3-407d-9d61-ccb40d3831e1",
     "showTitle": false,
     "tableResultSettingsMap": {},
     "title": ""
    }
   },
   "source": [
    "---\n",
    "### Camada Bronze: Ingestão dos Dados Brutos\n",
    "\n",
    "Nesta seção, realizamos a ingestão dos dados. Seguindo os princípios da **arquitetura Medalhão**, esta primeira camada, a **Bronze**, representa os dados em seu estado bruto, exatamente como foram recebidos da fonte.\n",
    "\n",
    "A função `load_csv` é um utilitário simples que utiliza os `schemas` definidos anteriormente para carregar cada arquivo CSV em um DataFrame do Spark. Cada DataFrame com o sufixo `_bronze` corresponde a uma tabela de dados brutos.\n"
   ]
  },
  {
   "cell_type": "code",
   "execution_count": 8,
   "metadata": {
    "application/vnd.databricks.v1+cell": {
     "cellMetadata": {},
     "inputWidgets": {},
     "nuid": "344c3ab2-fce9-43b1-8f35-730ea4f7cde6",
     "showTitle": false,
     "tableResultSettingsMap": {},
     "title": ""
    }
   },
   "outputs": [],
   "source": [
    "def load_csv(name, schema):\n",
    "    return (spark.read\n",
    "            .option(\"header\", True)\n",
    "            .schema(schema)\n",
    "            .csv(f\"{BASE_PATH}/{name}.csv\"))\n",
    "\n",
    "apps_bronze         = load_csv(\"appearances\",        appearances_schema)\n",
    "club_games_bronze   = load_csv(\"club_games\",         club_games_schema)\n",
    "clubs_bronze        = load_csv(\"clubs\",              clubs_schema)\n",
    "competitions_bronze = load_csv(\"competitions\",       competitions_schema)\n",
    "events_bronze       = load_csv(\"game_events\",        game_events_schema)\n",
    "lineups_bronze      = load_csv(\"game_lineups\",       game_lineups_schema)\n",
    "games_bronze        = load_csv(\"games\",              games_schema)\n",
    "valuations_bronze   = load_csv(\"player_valuations\",  valuations_schema)\n",
    "players_bronze      = load_csv(\"players\",            players_schema)\n",
    "transfers_bronze    = load_csv(\"transfers\",          transfers_schema)"
   ]
  },
  {
   "cell_type": "markdown",
   "metadata": {
    "application/vnd.databricks.v1+cell": {
     "cellMetadata": {},
     "inputWidgets": {},
     "nuid": "5aa60527-7dab-4732-963e-f0ba4b300b81",
     "showTitle": false,
     "tableResultSettingsMap": {},
     "title": ""
    }
   },
   "source": [
    "--- \n",
    "### Camada Silver: Limpeza, Padronização e Persistência\n",
    "\n",
    "A camada **Silver** é onde os dados da camada Bronze são transformados em tabelas limpas, consistentes e prontas para análise. As seguintes operações são realizadas:\n",
    "\n",
    "* **`base_clean`:** Uma função de limpeza básica que remove duplicatas com base em uma chave primária e adiciona um timestamp de ingestão para rastreabilidade.\n",
    "* **`parse_euro` (UDF):** Uma função criada para tratar um caso específico de parsing. As colunas de valor de mercado no dataset de clubes vêm em um formato de texto não padronizado (ex: `\"+€3.05m\"`). Esta UDF utiliza uma expressão regular (regex) para extrair o valor numérico e convertê-lo para um tipo `double` em euros.\n",
    "* **Persistência em Delta:** Após a limpeza, cada DataFrame é salvo no formato **Delta Lake**. Ele materializa os dados limpos no disco, o que melhora a performance das etapas seguintes (que agora lerão de arquivos Parquet otimizados) e garante a recuperabilidade do pipeline em caso de falhas."
   ]
  },
  {
   "cell_type": "code",
   "execution_count": 9,
   "metadata": {
    "application/vnd.databricks.v1+cell": {
     "cellMetadata": {},
     "inputWidgets": {},
     "nuid": "bb6901de-fe3f-439c-99b8-8460d5df08d6",
     "showTitle": false,
     "tableResultSettingsMap": {},
     "title": ""
    }
   },
   "outputs": [
    {
     "name": "stderr",
     "output_type": "stream",
     "text": [
      "25/07/02 02:12:33 WARN SparkStringUtils: Truncated the string representation of a plan since it was too large. This behavior can be adjusted by setting 'spark.sql.debug.maxToStringFields'.\n",
      "25/07/02 02:12:54 WARN MemoryManager: Total allocation exceeds 95,00% (1.020.054.720 bytes) of heap memory\n",
      "Scaling row group sizes to 95,00% for 8 writers\n",
      "25/07/02 02:13:20 WARN MemoryManager: Total allocation exceeds 95,00% (1.020.054.720 bytes) of heap memory\n",
      "Scaling row group sizes to 95,00% for 8 writers\n",
      "25/07/02 02:13:29 WARN MemoryManager: Total allocation exceeds 95,00% (1.020.054.720 bytes) of heap memory\n",
      "Scaling row group sizes to 95,00% for 8 writers\n",
      "25/07/02 02:13:37 WARN MemoryManager: Total allocation exceeds 95,00% (1.020.054.720 bytes) of heap memory\n",
      "Scaling row group sizes to 95,00% for 8 writers\n",
      "25/07/02 02:13:51 WARN MemoryManager: Total allocation exceeds 95,00% (1.020.054.720 bytes) of heap memory\n",
      "Scaling row group sizes to 95,00% for 8 writers\n",
      "25/07/02 02:14:06 WARN MemoryManager: Total allocation exceeds 95,00% (1.020.054.720 bytes) of heap memory\n",
      "Scaling row group sizes to 95,00% for 8 writers\n",
      "25/07/02 02:14:20 WARN MemoryManager: Total allocation exceeds 95,00% (1.020.054.720 bytes) of heap memory\n",
      "Scaling row group sizes to 95,00% for 8 writers\n",
      "                                                                                \r"
     ]
    }
   ],
   "source": [
    "def base_clean(df, pk: List[str]):\n",
    "    return (df\n",
    "            .dropDuplicates(pk)\n",
    "            .withColumn(\"_ingest_timestamp\", F.current_timestamp()))\n",
    "\n",
    "apps_silver = (base_clean(apps_bronze, [\"appearance_id\"])\n",
    "               .filter(\"minutes_played IS NOT NULL\"))\n",
    "\n",
    "# exemplo conversão market value \"+€3.05m\" → 3.05\n",
    "@F.udf(\"double\")\n",
    "def parse_euro(s):\n",
    "    import re\n",
    "    if s is None or s == \"\":\n",
    "        return None\n",
    "    m = re.search(r\"[-+€]?\\s*([\\d\\.]+)m\", s)\n",
    "    return float(m.group(1))*1e6 if m else None\n",
    "\n",
    "clubs_silver = (base_clean(clubs_bronze, [\"club_id\"])\n",
    "                .withColumn(\"total_market_value_eur\", parse_euro(\"total_market_value\"))\n",
    "                .withColumn(\"net_transfer_record_eur\", parse_euro(\"net_transfer_record\"))\n",
    "                .drop(\"total_market_value\",\"net_transfer_record\"))\n",
    "\n",
    "games_silver = base_clean(games_bronze, [\"game_id\"])\n",
    "players_silver = base_clean(players_bronze, [\"player_id\"])\n",
    "valuations_silver = base_clean(valuations_bronze, [\"player_id\",\"date\"])\n",
    "transfers_silver = base_clean(transfers_bronze, [\"player_id\",\"transfer_date\"])\n",
    "club_games_silver = base_clean(club_games_bronze, [\"game_id\",\"club_id\"])\n",
    "competitions_silver = base_clean(competitions_bronze, [\"competition_id\"])\n",
    "events_silver = base_clean(events_bronze, [\"game_event_id\"])\n",
    "lineups_silver = base_clean(lineups_bronze, [\"game_lineups_id\"])\n",
    "\n",
    "# Persistir como Delta para reuso\n",
    "(spark\n",
    " .createDataFrame([], T.StructType([])))  # placeholder para evitar saída longa\n",
    "\n",
    "for name, df in [(\"apps\",apps_silver),(\"clubs\",clubs_silver),(\"games\",games_silver),\n",
    "                 (\"players\",players_silver),(\"valuations\",valuations_silver),\n",
    "                 (\"transfers\",transfers_silver),(\"club_games\",club_games_silver),\n",
    "                 (\"competitions\",competitions_silver),(\"events\",events_silver),\n",
    "                 (\"lineups\",lineups_silver)]:\n",
    "    df.write.mode(\"overwrite\").format(\"delta\").save(f\"{PATH}/{name}\")"
   ]
  },
  {
   "cell_type": "markdown",
   "metadata": {},
   "source": [
    "### Modelagem para os Eixos de Análise\n",
    "\n",
    "Com os dados limpos e persistidos na camada Silver, iniciamos a fase de **Engenharia de Atributos** e modelagem. Aqui, aplicamos a lógica de negócio para criar os DataFrames que responderão diretamente às perguntas definidas nos três eixos do projeto.\n",
    "\n",
    "* **Eixo 1 (Valor de Mercado e ROI):**\n",
    "    * No DataFrame `valuations_enriched`, utilizamos **funções de janela** (`Window`) para calcular a idade do jogador em cada data de avaliação e a variação percentual de valor (`pct_growth`) em relação à medição anterior.\n",
    "    * No DataFrame `roi`, unimos dados de transferências e de valorações para calcular um ROI (Retorno sobre Investimento) simplificado, medindo a valorização do atleta nos 12 meses seguintes à sua contratação.\n",
    "\n",
    "* **Eixo 2 (Impacto Tático):**\n",
    "    * O DataFrame `apps_enriched` é enriquecido com informações de contexto do jogo (se o jogador estava em casa ou fora, se foi titular ou substituto).\n",
    "    * `tactical_impact` agrega essas informações por jogador para criar métricas de desempenho médio, como média de gols, assistências e taxa de participação como substituto.\n",
    "\n",
    "* **Eixo 3 (Carreira e Conexões):**\n",
    "    * O DataFrame `career_edges` é preparado especificamente para o Neo4j. Ele isola as informações de transferência, formatando os dados para representar as **arestas** (relações `TRANSFERRED_TO`) do nosso futuro grafo de carreiras."
   ]
  },
  {
   "cell_type": "markdown",
   "metadata": {
    "application/vnd.databricks.v1+cell": {
     "cellMetadata": {},
     "inputWidgets": {},
     "nuid": "cb1ec413-3e86-4a2c-896a-8722ccf51b31",
     "showTitle": false,
     "tableResultSettingsMap": {},
     "title": ""
    }
   },
   "source": [
    "---\n",
    "Estruturação Eixo 1"
   ]
  },
  {
   "cell_type": "code",
   "execution_count": 24,
   "metadata": {
    "application/vnd.databricks.v1+cell": {
     "cellMetadata": {},
     "inputWidgets": {},
     "nuid": "f8fafa5e-34ba-43d2-b503-fdbe839160e3",
     "showTitle": false,
     "tableResultSettingsMap": {},
     "title": ""
    }
   },
   "outputs": [],
   "source": [
    "w_date = Window.partitionBy(\"player_id\").orderBy(\"date\")\n",
    "\n",
    "valuations_enriched = (valuations_silver\n",
    "                       .join(players_silver.select(\"player_id\",\"date_of_birth\"), \"player_id\")\n",
    "                       .withColumn(\"age\",\n",
    "                                   F.floor(F.months_between(\"date\",\"date_of_birth\")/12))\n",
    "                       .withColumn(\"prev_value\",\n",
    "                                   F.lag(\"market_value_in_eur\").over(w_date))\n",
    "                       .withColumn(\"pct_growth\",\n",
    "                                   (F.col(\"market_value_in_eur\")-F.try_divide(F.col(\"prev_value\"), F.col(\"prev_value\")))))\n",
    "\n",
    "# ROI de transferências (simples: variação de valor em 12 meses após compra)\n",
    "buy_side = (transfers_silver\n",
    "            .select(\"player_id\",\"transfer_date\",\"to_club_id\",\"transfer_fee\")\n",
    "            .withColumnRenamed(\"transfer_date\",\"buy_date\"))\n",
    "\n",
    "roi = (buy_side\n",
    "       .join(valuations_enriched, (valuations_enriched.player_id == buy_side.player_id) &\n",
    "                                  (valuations_enriched.date >= buy_side.buy_date) &\n",
    "                                  (valuations_enriched.date <= F.add_months(buy_side.buy_date,12)))\n",
    "       .groupBy(buy_side.player_id, \"to_club_id\",\"transfer_fee\")\n",
    "       .agg(F.max(\"market_value_in_eur\").alias(\"value_after_12m\"))\n",
    "       .withColumn(\"roi_pct\",\n",
    "                   (F.col(\"value_after_12m\")-F.try_divide(F.col(\"transfer_fee\"), F.col(\"transfer_fee\")))))"
   ]
  },
  {
   "cell_type": "markdown",
   "metadata": {
    "application/vnd.databricks.v1+cell": {
     "cellMetadata": {},
     "inputWidgets": {},
     "nuid": "d98d270b-695c-43bd-9414-d274fe624c85",
     "showTitle": false,
     "tableResultSettingsMap": {},
     "title": ""
    }
   },
   "source": [
    "---\n",
    "Estruturação Eixo 2"
   ]
  },
  {
   "cell_type": "code",
   "execution_count": 11,
   "metadata": {
    "application/vnd.databricks.v1+cell": {
     "cellMetadata": {},
     "inputWidgets": {},
     "nuid": "8ac7394e-49b5-4799-bbf3-eaf3d3febe2c",
     "showTitle": false,
     "tableResultSettingsMap": {},
     "title": ""
    }
   },
   "outputs": [],
   "source": [
    "apps_enriched = (apps_silver\n",
    "                 .join(games_silver.select(\"game_id\",\"home_club_id\",\"away_club_id\",\n",
    "                                           \"home_club_goals\",\"away_club_goals\"),\"game_id\")\n",
    "                 .withColumn(\"is_home\",\n",
    "                             F.when(F.col(\"player_club_id\")==F.col(\"home_club_id\"),1).otherwise(0))\n",
    "                 .withColumn(\"is_sub\",\n",
    "                             F.when((F.col(\"minutes_played\")<90) & (F.col(\"minutes_played\")>0),1).otherwise(0))\n",
    "                )\n",
    "\n",
    "tactical_impact = (apps_enriched\n",
    "                   .groupBy(\"player_id\")\n",
    "                   .agg(F.avg(\"goals\").alias(\"avg_goals\"),\n",
    "                        F.avg(\"assists\").alias(\"avg_assists\"),\n",
    "                        F.avg(\"is_sub\").alias(\"sub_rate\")))"
   ]
  },
  {
   "cell_type": "markdown",
   "metadata": {},
   "source": [
    "---\n",
    "Estruturação Eixo 3"
   ]
  },
  {
   "cell_type": "code",
   "execution_count": 15,
   "metadata": {},
   "outputs": [],
   "source": [
    "career_edges = (transfers_silver\n",
    "                .select(\"player_id\",\"from_club_id\",\"to_club_id\",\"transfer_date\")\n",
    "                .withColumnRenamed(\"transfer_date\",\"date\"))"
   ]
  },
  {
   "cell_type": "markdown",
   "metadata": {
    "application/vnd.databricks.v1+cell": {
     "cellMetadata": {},
     "inputWidgets": {},
     "nuid": "2e3c9ed4-d66f-44f0-9869-0f0f577f5faa",
     "showTitle": false,
     "tableResultSettingsMap": {},
     "title": ""
    }
   },
   "source": [
    "---\n",
    "### Carga no MongoDB\n",
    "\n",
    "Nesta etapa, preparamos e salvamos os dados no **MongoDB**. A escolha deste banco de dados se justifica pela sua natureza orientada a documentos, que é ideal para o nosso caso de uso.\n",
    "\n",
    "O DataFrame `players_doc` é construído como um **documento denormalizado**. Ele agrega, para cada jogador, um conjunto rico de informações:\n",
    "* Dados pessoais (do `players_silver`).\n",
    "* Métricas de desempenho tático agregadas (do `tactical_impact`).\n",
    "* Um **array aninhado** com o histórico completo de suas valorações de mercado.\n",
    "\n",
    "Essa estrutura de \"Perfil 360°\" é extremamente eficiente, pois permite recuperar todas as informações de um jogador com uma única consulta, eliminando a necessidade de `JOINs` complexos no momento da leitura, o que é uma grande vantagem do modelo de documentos."
   ]
  },
  {
   "cell_type": "code",
   "execution_count": 20,
   "metadata": {
    "application/vnd.databricks.v1+cell": {
     "cellMetadata": {},
     "inputWidgets": {},
     "nuid": "e031651b-7d79-494d-a941-ba86c1d44764",
     "showTitle": false,
     "tableResultSettingsMap": {},
     "title": ""
    }
   },
   "outputs": [
    {
     "name": "stdout",
     "output_type": "stream",
     "text": [
      "Schema do DataFrame 'players_doc:\n",
      "root\n",
      " |-- current_club_id: long (nullable = true)\n",
      " |-- player_id: long (nullable = true)\n",
      " |-- first_name: string (nullable = true)\n",
      " |-- last_name: string (nullable = true)\n",
      " |-- name: string (nullable = true)\n",
      " |-- last_season: integer (nullable = true)\n",
      " |-- player_code: string (nullable = true)\n",
      " |-- country_of_birth: string (nullable = true)\n",
      " |-- city_of_birth: string (nullable = true)\n",
      " |-- country_of_citizenship: string (nullable = true)\n",
      " |-- date_of_birth: timestamp (nullable = true)\n",
      " |-- sub_position: string (nullable = true)\n",
      " |-- position: string (nullable = true)\n",
      " |-- foot: string (nullable = true)\n",
      " |-- height_in_cm: integer (nullable = true)\n",
      " |-- contract_expiration_date: string (nullable = true)\n",
      " |-- agent_name: string (nullable = true)\n",
      " |-- image_url: string (nullable = true)\n",
      " |-- url: string (nullable = true)\n",
      " |-- current_club_domestic_competition_id: string (nullable = true)\n",
      " |-- current_club_name: string (nullable = true)\n",
      " |-- market_value_in_eur: double (nullable = true)\n",
      " |-- highest_market_value_in_eur: double (nullable = true)\n",
      " |-- avg_goals: double (nullable = true)\n",
      " |-- avg_assists: double (nullable = true)\n",
      " |-- sub_rate: double (nullable = true)\n",
      " |-- valuations: array (nullable = true)\n",
      " |    |-- element: struct (containsNull = false)\n",
      " |    |    |-- date: date (nullable = true)\n",
      " |    |    |-- market_value_in_eur: double (nullable = true)\n",
      "\n"
     ]
    },
    {
     "name": "stderr",
     "output_type": "stream",
     "text": [
      "                                                                                \r"
     ]
    }
   ],
   "source": [
    "# DataFrame que será usado no join\n",
    "clubs_join_df = clubs_silver.select(\n",
    "    F.col(\"club_id\").alias(\"current_club_id\"),\n",
    "    F.col(\"name\").alias(\"current_club_name\")\n",
    ")\n",
    "\n",
    "# Construção do DataFrame 'players_doc' com a correção\n",
    "players_doc = (players_silver\n",
    "               .join(tactical_impact, \"player_id\", \"left\")\n",
    "               .join(valuations_enriched.groupBy(\"player_id\")\n",
    "                     .agg(F.collect_list(F.struct(\"date\", \"market_value_in_eur\")).alias(\"valuations\")),\n",
    "                     \"player_id\", \"left\")\n",
    "               # O join que causa a duplicidade\n",
    "               .join(clubs_join_df, \"current_club_id\", \"left\")\n",
    "               # ✅ A SOLUÇÃO: Remove a coluna duplicada que veio do join com clubs_join_df\n",
    "               .drop(clubs_join_df.current_club_name)\n",
    "               .drop(\"_ingest_timestamp\")\n",
    ")\n",
    "\n",
    "# Verificação do schema \n",
    "print(\"Schema do DataFrame 'players_doc:\")\n",
    "players_doc.printSchema()\n",
    "\n",
    "(players_doc\n",
    " .write\n",
    " .format(\"mongodb\")\n",
    " .option(\"collection\",\"players\")\n",
    " .mode(\"overwrite\")\n",
    " .save())"
   ]
  },
  {
   "cell_type": "markdown",
   "metadata": {
    "application/vnd.databricks.v1+cell": {
     "cellMetadata": {},
     "inputWidgets": {},
     "nuid": "c293e550-581b-4d47-8090-1a95ef3f98f8",
     "showTitle": false,
     "tableResultSettingsMap": {},
     "title": ""
    }
   },
   "source": [
    "---\n",
    "### Carga no Neo4j\n",
    "\n",
    "Aqui, populamos nosso banco de dados de grafos **Neo4j**. Este modelo é naturalmente adequado para representar e analisar as conexões e trajetórias na carreira dos atletas. O processo é dividido em duas partes:\n",
    "\n",
    "1.  **Criação dos Nós:**\n",
    "    * Os `:Player` (nós de jogador) são criados a partir do `players_silver`.\n",
    "    * Os `:Club` (nós de clube) são criados a partir do `clubs_silver`.\n",
    "    * Utilizamos a opção `.option(\"node.keys\", \"id\")` para garantir a **idempotência**, ou seja, que um mesmo jogador ou clube não seja criado mais de uma vez, mesmo que o código seja executado múltiplas vezes.\n",
    "\n",
    "2.  **Criação das Arestas:**\n",
    "    * As relações `:TRANSFERRED_TO` são criadas a partir do DataFrame `career_edges`.\n",
    "    * O conector do Spark mapeia as colunas de origem (`source_id`) e de destino (`target_id`) para conectar os nós `:Player` e `:Club` correspondentes, criando o grafo que representa as transferências."
   ]
  },
  {
   "cell_type": "code",
   "execution_count": 18,
   "metadata": {
    "application/vnd.databricks.v1+cell": {
     "cellMetadata": {},
     "inputWidgets": {},
     "nuid": "f47c4e8c-e701-402d-a473-a1331277e45f",
     "showTitle": false,
     "tableResultSettingsMap": {},
     "title": ""
    }
   },
   "outputs": [
    {
     "name": "stderr",
     "output_type": "stream",
     "text": [
      "                                                                                \r"
     ]
    }
   ],
   "source": [
    "# Nós: Player\n",
    "(players_silver\n",
    " .selectExpr(\"player_id as id\",\"name\",\"date_of_birth\")\n",
    " .write\n",
    " .format(\"org.neo4j.spark.DataSource\")\n",
    " .option(\"url\", NEO4J_URL)\n",
    " .option(\"authentication.type\",\"basic\")\n",
    " .option(\"authentication.basic.username\", NEO4J_AUTH[0])\n",
    " .option(\"authentication.basic.password\", NEO4J_AUTH[1])\n",
    " .option(\"labels\",\":Player\")\n",
    " .option(\"node.keys\", \"id\")  # Adiciona a chave para identificar o nó\n",
    " .mode(\"overwrite\")\n",
    " .save())\n",
    "\n",
    "# Nós: Club\n",
    "(clubs_silver\n",
    " .selectExpr(\"club_id as id\",\"name\")\n",
    " .write\n",
    " .format(\"org.neo4j.spark.DataSource\")\n",
    " .option(\"url\", NEO4J_URL)\n",
    " .option(\"authentication.type\",\"basic\")\n",
    " .option(\"authentication.basic.username\", NEO4J_AUTH[0])\n",
    " .option(\"authentication.basic.password\", NEO4J_AUTH[1])\n",
    " .option(\"labels\",\":Club\")\n",
    " .option(\"node.keys\", \"id\")  # Adiciona a chave para identificar o nó\n",
    " .mode(\"overwrite\")\n",
    " .save())\n",
    "\n",
    "# Arestas: TRANSFERRED_TO\n",
    "(career_edges\n",
    " .selectExpr(\"player_id as source_id\",\n",
    "             \"to_club_id as target_id\",\n",
    "             \"date\")\n",
    " .coalesce(1)                                     # evita deadlocks\n",
    " .write\n",
    " .format(\"org.neo4j.spark.DataSource\")\n",
    " .option(\"url\", NEO4J_URL)\n",
    " .option(\"authentication.type\",\"basic\")\n",
    " .option(\"authentication.basic.username\", NEO4J_AUTH[0])\n",
    " .option(\"authentication.basic.password\", NEO4J_AUTH[1])\n",
    " .option(\"relationship\",\"TRANSFERRED_TO\")\n",
    " .option(\"relationship.save.strategy\",\"keys\")\n",
    " .option(\"relationship.source.labels\",\":Player\")\n",
    " .option(\"relationship.target.labels\",\":Club\")\n",
    " .option(\"relationship.source.node.keys\",\"source_id\")\n",
    " .option(\"relationship.target.node.keys\",\"target_id\")\n",
    " .mode(\"append\")\n",
    " .save())\n"
   ]
  },
  {
   "cell_type": "markdown",
   "metadata": {
    "application/vnd.databricks.v1+cell": {
     "cellMetadata": {},
     "inputWidgets": {},
     "nuid": "dcbe0f87-6660-41e4-9b78-59150489c6c1",
     "showTitle": false,
     "tableResultSettingsMap": {},
     "title": ""
    }
   },
   "source": [
    "---\n",
    "### Verificação Final e Métricas de Qualidade\n",
    "\n",
    "Como etapa final do nosso pipeline ETL, executamos duas ações importantes:\n",
    "\n",
    "1.  **Cálculo de Métricas de Qualidade:** Para os nossos principais DataFrames enriquecidos, calculamos e persistimos uma tabela de métricas. Isso inclui a contagem total de linhas e um dicionário com a contagem de valores nulos para cada coluna. Esta é uma prática profissional essencial para monitorar a saúde e a integridade dos dados ao longo do tempo.\n",
    "\n",
    "2.  **Visualização e Validação:** Lemos de volta todas as tabelas Delta que foram salvas na camada Silver e as exibimos com `.show()`. Este passo serve como uma verificação visual final para garantir que o pipeline foi executado como esperado e que os dados estão estruturados corretamente antes de passarmos para a fase de análise e consulta nos bancos de dados NoSQL."
   ]
  },
  {
   "cell_type": "code",
   "execution_count": 28,
   "metadata": {
    "application/vnd.databricks.v1+cell": {
     "cellMetadata": {},
     "inputWidgets": {},
     "nuid": "9b73f3b6-e6f0-43ec-b855-195b92eb567b",
     "showTitle": false,
     "tableResultSettingsMap": {},
     "title": ""
    }
   },
   "outputs": [
    {
     "name": "stdout",
     "output_type": "stream",
     "text": [
      "Calculando métricas para a tabela: players_doc...\n"
     ]
    },
    {
     "name": "stderr",
     "output_type": "stream",
     "text": [
      "                                                                                \r"
     ]
    },
    {
     "name": "stdout",
     "output_type": "stream",
     "text": [
      "Calculando métricas para a tabela: games_silver...\n"
     ]
    },
    {
     "name": "stderr",
     "output_type": "stream",
     "text": [
      "                                                                                \r"
     ]
    },
    {
     "name": "stdout",
     "output_type": "stream",
     "text": [
      "Calculando métricas para a tabela: valuations_enriched...\n"
     ]
    },
    {
     "name": "stderr",
     "output_type": "stream",
     "text": [
      "                                                                                \r"
     ]
    },
    {
     "name": "stdout",
     "output_type": "stream",
     "text": [
      "\\Métricas calculadas. Criando o DataFrame final...\n"
     ]
    },
    {
     "name": "stderr",
     "output_type": "stream",
     "text": [
      "                                                                                \r"
     ]
    },
    {
     "name": "stdout",
     "output_type": "stream",
     "text": [
      "\n",
      "✅ Métricas de qualidade salvas com sucesso!\n"
     ]
    }
   ],
   "source": [
    "quality_metrics = []\n",
    "\n",
    "for name, df in [(\"players_doc\", players_doc),\n",
    "                 (\"games_silver\", games_silver),\n",
    "                 (\"valuations_enriched\", valuations_enriched)]:\n",
    "    \n",
    "    print(f\"Calculando métricas para a tabela: {name}...\")\n",
    "    \n",
    "    quality_metrics.append(Row(\n",
    "        table=name,\n",
    "        rows=df.count(),\n",
    "        nulls=df.select([F.count(F.when(F.col(c).isNull(), c)).alias(c) for c in df.columns])\n",
    "              .select([F.sum(c).alias(c) for c in df.columns]).first().asDict(),\n",
    "        # ✅ PASSO 2: Use a função do Python para pegar o timestamp atual\n",
    "        timestamp=datetime.now()\n",
    "    ))\n",
    "\n",
    "print(\"\\Métricas calculadas. Criando o DataFrame final...\")\n",
    "\n",
    "# Esta parte agora vai funcionar, pois quality_metrics só contém dados Python\n",
    "(spark.createDataFrame(quality_metrics)\n",
    "      .write.mode(\"append\").format(\"delta\")\n",
    "      .save(f\"{PATH}/quality_metrics\")) # Ajustei o caminho para o seu padrão\n",
    "\n",
    "print(\"\\n✅ Métricas de qualidade salvas com sucesso!\")"
   ]
  },
  {
   "cell_type": "code",
   "execution_count": 32,
   "metadata": {},
   "outputs": [
    {
     "name": "stdout",
     "output_type": "stream",
     "text": [
      "Visualizando a tabela de Métricas de Qualidade:\n",
      "+-------------------+------+-----------------------------------------------------------------------------------------------------------------------------------------------------------------------------------------------------------------------------------------------------------------------------------------------------------------------------------------------------------------------------------------------------------------------------------------------------------------------------------------------------------------------------------------------------------------------------------------------------------+--------------------------+\n",
      "|table              |rows  |nulls                                                                                                                                                                                                                                                                                                                                                                                                                                                                                                                                                                                                      |timestamp                 |\n",
      "+-------------------+------+-----------------------------------------------------------------------------------------------------------------------------------------------------------------------------------------------------------------------------------------------------------------------------------------------------------------------------------------------------------------------------------------------------------------------------------------------------------------------------------------------------------------------------------------------------------------------------------------------------------+--------------------------+\n",
      "|players_doc        |32601 |{highest_market_value_in_eur -> 1523, market_value_in_eur -> 1523, agent_name -> 16019, avg_goals -> 6915, date_of_birth -> 47, current_club_id -> 0, valuations -> 1523, last_season -> 0, player_id -> 0, country_of_birth -> 2799, current_club_domestic_competition_id -> 0, first_name -> 2062, height_in_cm -> 2256, foot -> 2536, sub_position -> 180, avg_assists -> 6915, image_url -> 0, country_of_citizenship -> 383, player_code -> 0, contract_expiration_date -> 12091, last_name -> 0, url -> 0, sub_rate -> 6915, name -> 0, current_club_name -> 0, position -> 0, city_of_birth -> 2455}|2025-07-02 03:20:35.615765|\n",
      "|players_doc        |32601 |{highest_market_value_in_eur -> 1523, market_value_in_eur -> 1523, agent_name -> 16019, avg_goals -> 6915, date_of_birth -> 47, current_club_id -> 0, valuations -> 1523, last_season -> 0, player_id -> 0, country_of_birth -> 2799, current_club_domestic_competition_id -> 0, first_name -> 2062, height_in_cm -> 2256, foot -> 2536, sub_position -> 180, avg_assists -> 6915, image_url -> 0, country_of_citizenship -> 383, player_code -> 0, contract_expiration_date -> 12091, last_name -> 0, url -> 0, sub_rate -> 6915, name -> 0, current_club_name -> 0, position -> 0, city_of_birth -> 2455}|2025-07-02 03:19:42.514268|\n",
      "|games_silver       |74026 |{date -> 0, competition_type -> 0, home_club_formation -> 6975, away_club_formation -> 6806, referee -> 652, away_club_manager_name -> 828, home_club_goals -> 12, aggregate -> 12, _ingest_timestamp -> 0, away_club_name -> 11455, stadium -> 250, season -> 0, game_id -> 0, away_club_goals -> 12, url -> 0, home_club_position -> 22467, home_club_name -> 12850, round -> 0, competition_id -> 0, home_club_id -> 9, home_club_manager_name -> 828, away_club_position -> 22467, attendance -> 9948, away_club_id -> 9}                                                                              |2025-07-02 03:19:47.21365 |\n",
      "|games_silver       |74026 |{date -> 0, competition_type -> 0, home_club_formation -> 6975, away_club_formation -> 6806, referee -> 652, away_club_manager_name -> 828, home_club_goals -> 12, aggregate -> 12, _ingest_timestamp -> 0, away_club_name -> 11455, stadium -> 250, season -> 0, game_id -> 0, away_club_goals -> 12, url -> 0, home_club_position -> 22467, home_club_name -> 12850, round -> 0, competition_id -> 0, home_club_id -> 9, home_club_manager_name -> 828, away_club_position -> 22467, attendance -> 9948, away_club_id -> 9}                                                                              |2025-07-02 03:20:41.142707|\n",
      "|valuations_enriched|496606|{market_value_in_eur -> 0, date -> 0, _ingest_timestamp -> 0, player_id -> 0, date_of_birth -> 561, current_club_id -> 0, pct_growth -> 31079, prev_value -> 31078, age -> 561, player_club_domestic_competition_id -> 0}                                                                                                                                                                                                                                                                                                                                                                                  |2025-07-02 03:20:48.851514|\n",
      "|valuations_enriched|496606|{market_value_in_eur -> 0, date -> 0, _ingest_timestamp -> 0, player_id -> 0, date_of_birth -> 561, current_club_id -> 0, pct_growth -> 31079, prev_value -> 31078, age -> 561, player_club_domestic_competition_id -> 0}                                                                                                                                                                                                                                                                                                                                                                                  |2025-07-02 03:19:55.06256 |\n",
      "+-------------------+------+-----------------------------------------------------------------------------------------------------------------------------------------------------------------------------------------------------------------------------------------------------------------------------------------------------------------------------------------------------------------------------------------------------------------------------------------------------------------------------------------------------------------------------------------------------------------------------------------------------------+--------------------------+\n",
      "\n",
      "\n",
      "Visualizando a tabela final de Jogadores:\n",
      "+---------+----------+---------+--------------+-----------+---------------+--------------+----------------+-------------------+----------------------+-------------------+------------------+----------+-----+------------+------------------------+-----------------+--------------------+--------------------+------------------------------------+--------------------+-------------------+---------------------------+--------------------+\n",
      "|player_id|first_name|last_name|          name|last_season|current_club_id|   player_code|country_of_birth|      city_of_birth|country_of_citizenship|      date_of_birth|      sub_position|  position| foot|height_in_cm|contract_expiration_date|       agent_name|           image_url|                 url|current_club_domestic_competition_id|   current_club_name|market_value_in_eur|highest_market_value_in_eur|   _ingest_timestamp|\n",
      "+---------+----------+---------+--------------+-----------+---------------+--------------+----------------+-------------------+----------------------+-------------------+------------------+----------+-----+------------+------------------------+-----------------+--------------------+--------------------+------------------------------------+--------------------+-------------------+---------------------------+--------------------+\n",
      "|     1122|      Sven|  Neuhaus|  Sven Neuhaus|       2013|             41|  sven-neuhaus|         Germany|              Essen|               Germany|1978-04-04 00:00:00|        Goalkeeper|Goalkeeper| NULL|        NULL|                    NULL|Soccer-Concept AG|https://img.a.tra...|https://www.trans...|                                  L1|        Hamburger SV|           200000.0|                   900000.0|2025-07-02 02:13:...|\n",
      "|     1327|      Alou|   Diarra|   Alou Diarra|       2016|           1159|   alou-diarra|          France|         Villepinte|                France|1981-07-15 00:00:00|Defensive Midfield|  Midfield|right|         189|                    NULL|             NULL|https://img.a.tra...|https://www.trans...|                                 FR1|   AS Nancy-Lorraine|           250000.0|                     1.45E7|2025-07-02 02:13:...|\n",
      "|     1397|   Michael|     Owen|  Michael Owen|       2012|            512|  michael-owen|         England|            Chester|               England|1979-12-14 00:00:00|    Centre-Forward|    Attack| both|         173|                    NULL|             NULL|https://img.a.tra...|https://www.trans...|                                 GB1|          Stoke City|          1000000.0|                      3.0E7|2025-07-02 02:13:...|\n",
      "|     1423|      Lars| Jacobsen| Lars Jacobsen|       2015|            855| lars-jacobsen|         Denmark|             Odense|               Denmark|1979-09-20 00:00:00|        Right-Back|  Defender| both|         181|                    NULL|          NSG ApS|https://img.a.tra...|https://www.trans...|                                 FR1|         EA Guingamp|           500000.0|                  2500000.0|2025-07-02 02:13:...|\n",
      "|     1496|     Heiko| Butscher|Heiko Butscher|       2012|             24|heiko-butscher|         Germany|Leutkirch im Allgäu|               Germany|1980-07-28 00:00:00|       Centre-Back|  Defender| both|         189|                    NULL|             NULL|https://img.a.tra...|https://www.trans...|                                  L1|Eintracht Frankfu...|           200000.0|                  2250000.0|2025-07-02 02:13:...|\n",
      "+---------+----------+---------+--------------+-----------+---------------+--------------+----------------+-------------------+----------------------+-------------------+------------------+----------+-----+------------+------------------------+-----------------+--------------------+--------------------+------------------------------------+--------------------+-------------------+---------------------------+--------------------+\n",
      "only showing top 5 rows\n",
      "\n",
      "Visualizando a tabela final de Aparições:\n"
     ]
    },
    {
     "name": "stderr",
     "output_type": "stream",
     "text": [
      "                                                                                \r"
     ]
    },
    {
     "name": "stdout",
     "output_type": "stream",
     "text": [
      "+-------------+-------+---------+--------------+----------------------+----------+--------------------+--------------+------------+---------+-----+-------+--------------+--------------------+\n",
      "|appearance_id|game_id|player_id|player_club_id|player_current_club_id|      date|         player_name|competition_id|yellow_cards|red_cards|goals|assists|minutes_played|   _ingest_timestamp|\n",
      "+-------------+-------+---------+--------------+----------------------+----------+--------------------+--------------+------------+---------+-----+-------+--------------+--------------------+\n",
      "| 2218677_2865|2218677|     2865|           506|                   167|2012-08-11|Stephan Lichtsteiner|           SCI|           1|        0|    0|      0|            89|2025-07-02 02:12:...|\n",
      "|2218677_37666|2218677|    37666|           506|                    46|2012-08-11|        Arturo Vidal|           SCI|           0|        0|    1|      1|           120|2025-07-02 02:12:...|\n",
      "| 2218677_5880|2218677|     5880|          6195|                   162|2012-08-11|   Morgan De Sanctis|           SCI|           0|        0|    0|      0|           120|2025-07-02 02:12:...|\n",
      "| 2218677_7109|2218677|     7109|           506|                   506|2012-08-11|     Andrea Barzagli|           SCI|           0|        0|    0|      0|           120|2025-07-02 02:12:...|\n",
      "|   2218677_77|2218677|       77|           506|                   506|2012-08-11|               Lúcio|           SCI|           0|        0|    0|      0|           120|2025-07-02 02:12:...|\n",
      "+-------------+-------+---------+--------------+----------------------+----------+--------------------+--------------+------------+---------+-----+-------+--------------+--------------------+\n",
      "only showing top 5 rows\n",
      "\n",
      "Visualizando a tabela final de Clubes:\n",
      "+-------+-----------------+--------------------+-----------------------+----------+-----------+-----------------+---------------------+---------------------+-------------------+-------------+----------+-----------+--------------------+--------------------+--------------------+----------------------+-----------------------+\n",
      "|club_id|        club_code|                name|domestic_competition_id|squad_size|average_age|foreigners_number|foreigners_percentage|national_team_players|       stadium_name|stadium_seats|coach_name|last_season|            filename|                 url|   _ingest_timestamp|total_market_value_eur|net_transfer_record_eur|\n",
      "+-------+-----------------+--------------------+-----------------------+----------+-----------+-----------------+---------------------+---------------------+-------------------+-------------+----------+-----------+--------------------+--------------------+--------------------+----------------------+-----------------------+\n",
      "|      3|        1-fc-koln|           1.FC Köln|                     L1|        34|       24.6|               11|                 32.4|                    6|RheinEnergieSTADION|        50000|      NULL|       2023|../data/raw/trans...|https://www.trans...|2025-07-02 02:13:...|                  NULL|              1600000.0|\n",
      "|      4|    1-fc-nurnberg|      1.FC Nuremberg|                     L1|        33|       25.2|                7|                 21.2|                    2|Max-Morlock-Stadion|        50000|      NULL|       2018|../data/raw/trans...|https://www.trans...|2025-07-02 02:13:...|                  NULL|              2630000.0|\n",
      "|      5|       ac-mailand|Associazione Calc...|                    IT1|        26|       26.3|               20|                 76.9|                   14|    Giuseppe Meazza|        75923|      NULL|       2024|../data/raw/trans...|https://www.trans...|2025-07-02 02:13:...|                  NULL|                 7.09E7|\n",
      "|      6|        adanaspor|           Adanaspor|                    TR1|        10|       23.9|                4|                 40.0|                    0|Yeni Adana Stadyumu|        33000|      NULL|       2016|../data/raw/trans...|https://www.trans...|2025-07-02 02:13:...|                  NULL|                   NULL|\n",
      "|     10|arminia-bielefeld|   Arminia Bielefeld|                     L1|        27|       25.3|               15|                 55.6|                    4|        SchücoArena|        26515|      NULL|       2021|../data/raw/trans...|https://www.trans...|2025-07-02 02:13:...|                  NULL|              5900000.0|\n",
      "+-------+-----------------+--------------------+-----------------------+----------+-----------+-----------------+---------------------+---------------------+-------------------+-------------+----------+-----------+--------------------+--------------------+--------------------+----------------------+-----------------------+\n",
      "only showing top 5 rows\n",
      "\n",
      "Visualizando a tabela final de Jogos dos clubes:\n",
      "+-------+-------+---------+------------+-----------------+-----------+--------------+-----------------+---------------------+-------+------+--------------------+\n",
      "|game_id|club_id|own_goals|own_position| own_manager_name|opponent_id|opponent_goals|opponent_position|opponent_manager_name|hosting|is_win|   _ingest_timestamp|\n",
      "+-------+-------+---------+------------+-----------------+-----------+--------------+-----------------+---------------------+-------+------+--------------------+\n",
      "|2211607|    383|        4|        NULL|    Dick Advocaat|        610|             2|             NULL|        Frank de Boer|   Home|     1|2025-07-02 02:13:...|\n",
      "|2218677|    506|        4|        NULL|  Massimo Carrera|       6195|             2|             NULL|      Walter Mazzarri|   Home|     1|2025-07-02 02:13:...|\n",
      "|2219795|     13|        4|        NULL|    Diego Simeone|        631|             1|             NULL|    Roberto Di Matteo|   Away|     1|2025-07-02 02:13:...|\n",
      "|2219795|    631|        1|        NULL|Roberto Di Matteo|         13|             4|             NULL|        Diego Simeone|   Home|     0|2025-07-02 02:13:...|\n",
      "|2221748|    158|        2|        NULL|   Ronny Borchers|         44|             1|             NULL|          Jos Luhukay|   Home|     1|2025-07-02 02:13:...|\n",
      "+-------+-------+---------+------------+-----------------+-----------+--------------+-----------------+---------------------+-------+------+--------------------+\n",
      "only showing top 5 rows\n",
      "\n",
      "Visualizando a tabela final de Competições:\n",
      "+--------------+------------------+------------------+------------------+---------------+----------+------------+--------------------+-------------+--------------------+------------------------+--------------------+\n",
      "|competition_id|  competition_code|              name|          sub_type|           type|country_id|country_name|domestic_league_code|confederation|                 url|is_major_national_league|   _ingest_timestamp|\n",
      "+--------------+------------------+------------------+------------------+---------------+----------+------------+--------------------+-------------+--------------------+------------------------+--------------------+\n",
      "|           BE1|jupiler-pro-league|jupiler-pro-league|        first_tier|domestic_league|        19|     Belgium|                 BE1|       europa|https://www.trans...|                   false|2025-07-02 02:13:...|\n",
      "|          BESC|  belgian-supercup|  belgian-supercup|domestic_super_cup|          other|        19|     Belgium|                 BE1|       europa|https://www.trans...|                   false|2025-07-02 02:13:...|\n",
      "|           CDR|      copa-del-rey|      copa-del-rey|      domestic_cup|   domestic_cup|       157|       Spain|                 ES1|       europa|https://www.trans...|                   false|2025-07-02 02:13:...|\n",
      "|           CGB|           efl-cup|           efl-cup|        league_cup|          other|       189|     England|                 GB1|       europa|https://www.trans...|                   false|2025-07-02 02:13:...|\n",
      "|           CIT|         italy-cup|         italy-cup|      domestic_cup|   domestic_cup|        75|       Italy|                 IT1|       europa|https://www.trans...|                   false|2025-07-02 02:13:...|\n",
      "+--------------+------------------+------------------+------------------+---------------+----------+------------+--------------------+-------------+--------------------+------------------------+--------------------+\n",
      "only showing top 5 rows\n",
      "\n",
      "Visualizando a tabela final de Eventos:\n",
      "+--------------------+----------+-------+------+-----+-------+---------+--------------------+------------+----------------+--------------------+\n",
      "|       game_event_id|      date|game_id|minute| type|club_id|player_id|         description|player_in_id|player_assist_id|   _ingest_timestamp|\n",
      "+--------------------+----------+-------+------+-----+-------+---------+--------------------+------------+----------------+--------------------+\n",
      "|0000078bea52d1c32...|2018-08-18|3093784|    56|Goals|   9545|   430125|, 1. Tournament Goal|        NULL|            NULL|2025-07-02 02:14:...|\n",
      "|0000cf21fdf9c7711...|2017-08-24|2905734|    86|Cards|    941|    16090|      1. Yellow card|        NULL|            NULL|2025-07-02 02:14:...|\n",
      "|0000d7df274b5ebee...|2021-05-02|3394963|    90|Cards|    162|   463620|Red card  , Mass ...|        NULL|            NULL|2025-07-02 02:14:...|\n",
      "|000179169589b454e...|2023-12-16|4098040|    51|Goals|    724|   728864|, Right-footed sh...|        NULL|          746838|2025-07-02 02:14:...|\n",
      "|000442dbb0ff0a591...|2023-08-06|4092071|    90|Cards|   1124|   125755|1. Yellow card  ,...|        NULL|            NULL|2025-07-02 02:14:...|\n",
      "+--------------------+----------+-------+------+-----+-------+---------+--------------------+------------+----------------+--------------------+\n",
      "only showing top 5 rows\n",
      "\n",
      "Visualizando a tabela final de Escalações:\n",
      "+--------------------+----+-------+---------+-------+-----------+----+--------+------+------------+--------------------+\n",
      "|     game_lineups_id|date|game_id|player_id|club_id|player_name|type|position|number|team_captain|   _ingest_timestamp|\n",
      "+--------------------+----+-------+---------+-------+-----------+----+--------+------+------------+--------------------+\n",
      "|                  18|NULL|   NULL|     NULL|   NULL|       NULL|NULL|    NULL|  NULL|        NULL|2025-07-02 02:14:...|\n",
      "|                  21|NULL|   NULL|     NULL|   NULL|       NULL|NULL|    NULL|  NULL|        NULL|2025-07-02 02:14:...|\n",
      "|                  31|NULL|   NULL|     NULL|   NULL|       NULL|NULL|    NULL|  NULL|        NULL|2025-07-02 02:14:...|\n",
      "|                  32|NULL|   NULL|     NULL|   NULL|       NULL|NULL|    NULL|  NULL|        NULL|2025-07-02 02:14:...|\n",
      "|                  47|NULL|   NULL|     NULL|   NULL|       NULL|NULL|    NULL|  NULL|        NULL|2025-07-02 02:14:...|\n",
      "+--------------------+----+-------+---------+-------+-----------+----+--------+------+------------+--------------------+\n",
      "only showing top 5 rows\n",
      "\n",
      "Visualizando a tabela final de Transferências:\n",
      "+---------+-------------+---------------+------------+----------+---------------+-------------+------------+-------------------+--------------+--------------------+\n",
      "|player_id|transfer_date|transfer_season|from_club_id|to_club_id| from_club_name| to_club_name|transfer_fee|market_value_in_eur|   player_name|   _ingest_timestamp|\n",
      "+---------+-------------+---------------+------------+----------+---------------+-------------+------------+-------------------+--------------+--------------------+\n",
      "|     4391|   2010-07-01|          10/11|        1090|       642|     AZ Alkmaar|De Graafschap|         0.0|           800000.0|  Boy Waterman|2025-07-02 02:13:...|\n",
      "|     4391|   2011-06-30|          10/11|         642|      1090|  De Graafschap|   AZ Alkmaar|         0.0|           800000.0|  Boy Waterman|2025-07-02 02:13:...|\n",
      "|     4391|   2012-07-01|          12/13|           8|       383|   Alem. Aachen|PSV Eindhoven|         0.0|          1000000.0|  Boy Waterman|2025-07-02 02:13:...|\n",
      "|     7825|   2002-07-01|          02/03|         131|      1050|      Barcelona|   Villarreal|    750000.0|               NULL|    Pepe Reina|2025-07-02 02:13:...|\n",
      "|     8246|   2006-07-01|          06/07|          73|        72|1860 München II|  1860 Munich|        NULL|           150000.0|Philipp Pentke|2025-07-02 02:13:...|\n",
      "+---------+-------------+---------------+------------+----------+---------------+-------------+------------+-------------------+--------------+--------------------+\n",
      "only showing top 5 rows\n",
      "\n",
      "Visualizando a tabela final de Valuations:\n",
      "+---------+----------+-------------------+---------------+-----------------------------------+--------------------+\n",
      "|player_id|      date|market_value_in_eur|current_club_id|player_club_domestic_competition_id|   _ingest_timestamp|\n",
      "+---------+----------+-------------------+---------------+-----------------------------------+--------------------+\n",
      "|       10|2005-05-05|              1.2E7|            398|                                IT1|2025-07-02 02:13:...|\n",
      "|       26|2006-06-02|          7500000.0|             16|                                 L1|2025-07-02 02:13:...|\n",
      "|       65|2004-10-04|          8000000.0|           1091|                                GR1|2025-07-02 02:13:...|\n",
      "|       65|2005-09-30|             1.45E7|           1091|                                GR1|2025-07-02 02:13:...|\n",
      "|       65|2006-06-02|              1.7E7|           1091|                                GR1|2025-07-02 02:13:...|\n",
      "+---------+----------+-------------------+---------------+-----------------------------------+--------------------+\n",
      "only showing top 5 rows\n"
     ]
    }
   ],
   "source": [
    "# Carregando a tabela de métricas de qualidade de volta para um DataFrame\n",
    "quality_df = spark.read.format(\"delta\").load(f\"{PATH}/quality_metrics\")\n",
    "print(\"Visualizando a tabela de Métricas de Qualidade:\")\n",
    "quality_df.show(truncate=False)\n",
    "\n",
    "# Carregando a tabela de jogadores\n",
    "players_final_df = spark.read.format(\"delta\").load(f\"{PATH}/players\")\n",
    "print(\"\\nVisualizando a tabela final de Jogadores:\")\n",
    "players_final_df.show(5)\n",
    "\n",
    "# Carregando a tabela de apariceos\n",
    "apps_final_df = spark.read.format(\"delta\").load(f\"{PATH}/apps\")\n",
    "print(\"\\nVisualizando a tabela final de Aparições:\")\n",
    "apps_final_df.show(5)\n",
    "\n",
    "# Carregando a tabela de clubes\n",
    "clubs_final_df = spark.read.format(\"delta\").load(f\"{PATH}/clubs\")\n",
    "print(\"\\nVisualizando a tabela final de Clubes:\")\n",
    "clubs_final_df.show(5)\n",
    "\n",
    "# Carregando a tabela de jogos do clube\n",
    "club_games_final_df = spark.read.format(\"delta\").load(f\"{PATH}/club_games\")\n",
    "print(\"\\nVisualizando a tabela final de Jogos dos clubes:\")\n",
    "club_games_final_df.show(5)\n",
    "\n",
    "# Carregando a tabela de competicoes\n",
    "competitions_final_df = spark.read.format(\"delta\").load(f\"{PATH}/competitions\")\n",
    "print(\"\\nVisualizando a tabela final de Competições:\")\n",
    "competitions_final_df.show(5)\n",
    "\n",
    "# Carregando a tabela de eventos\n",
    "events_final_df = spark.read.format(\"delta\").load(f\"{PATH}/events\")\n",
    "print(\"\\nVisualizando a tabela final de Eventos:\")\n",
    "events_final_df.show(5)\n",
    "\n",
    "# Carregando a tabela de escalações\n",
    "lineups_final_df = spark.read.format(\"delta\").load(f\"{PATH}/lineups\")\n",
    "print(\"\\nVisualizando a tabela final de Escalações:\")\n",
    "lineups_final_df.show(5)\n",
    "\n",
    "# Carregando a tabela de transferencias\n",
    "transfers_final_df = spark.read.format(\"delta\").load(f\"{PATH}/transfers\")\n",
    "print(\"\\nVisualizando a tabela final de Transferências:\")\n",
    "transfers_final_df.show(5)\n",
    "\n",
    "# Carregando a tabela de valuations\n",
    "valuations_final_df = spark.read.format(\"delta\").load(f\"{PATH}/valuations\")\n",
    "print(\"\\nVisualizando a tabela final de Valuations:\")\n",
    "valuations_final_df.show(5)"
   ]
  }
 ],
 "metadata": {
  "application/vnd.databricks.v1+notebook": {
   "computePreferences": null,
   "dashboards": [],
   "environmentMetadata": {
    "base_environment": "",
    "environment_version": "1"
   },
   "inputWidgetPreferences": null,
   "language": "python",
   "notebookMetadata": {
    "pythonIndentUnit": 4
   },
   "notebookName": "Projeto_PMD",
   "widgets": {}
  },
  "kernelspec": {
   "display_name": "venv",
   "language": "python",
   "name": "python3"
  },
  "language_info": {
   "codemirror_mode": {
    "name": "ipython",
    "version": 3
   },
   "file_extension": ".py",
   "mimetype": "text/x-python",
   "name": "python",
   "nbconvert_exporter": "python",
   "pygments_lexer": "ipython3",
   "version": "3.11.13"
  }
 },
 "nbformat": 4,
 "nbformat_minor": 0
}
